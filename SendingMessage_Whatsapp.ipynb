{
 "cells": [
  {
   "cell_type": "code",
   "execution_count": null,
   "id": "dc363f99",
   "metadata": {
    "scrolled": true
   },
   "outputs": [],
   "source": [
    "from selenium import webdriver\n",
    "from selenium.webdriver.common.keys import Keys\n",
    "from selenium.webdriver.common.by import By\n",
    "import time\n",
    "\n",
    "driver=webdriver.Chrome()\n",
    "driver.get('https://web.whatsapp.com/')\n",
    "# waiting for whastsapp screen load\n",
    "while len(driver.find_elements(By.ID,'side')) < 1:# element showing once screen is loaded # using as a list since if is without anything it means that did not open yet\n",
    "    time.sleep(1)\n",
    "time.sleep(2) # just to make sure"
   ]
  },
  {
   "cell_type": "code",
   "execution_count": 2,
   "id": "5ec2043b",
   "metadata": {},
   "outputs": [
    {
     "data": {
      "text/html": [
       "<div>\n",
       "<style scoped>\n",
       "    .dataframe tbody tr th:only-of-type {\n",
       "        vertical-align: middle;\n",
       "    }\n",
       "\n",
       "    .dataframe tbody tr th {\n",
       "        vertical-align: top;\n",
       "    }\n",
       "\n",
       "    .dataframe thead th {\n",
       "        text-align: right;\n",
       "    }\n",
       "</style>\n",
       "<table border=\"1\" class=\"dataframe\">\n",
       "  <thead>\n",
       "    <tr style=\"text-align: right;\">\n",
       "      <th></th>\n",
       "      <th>nome</th>\n",
       "      <th>mensagem</th>\n",
       "      <th>arquivo</th>\n",
       "      <th>telefone</th>\n",
       "    </tr>\n",
       "  </thead>\n",
       "  <tbody>\n",
       "    <tr>\n",
       "      <th>0</th>\n",
       "      <td>Mister X</td>\n",
       "      <td>Bom dia,vamos pro passeio.</td>\n",
       "      <td>N</td>\n",
       "      <td>5585XXXXXXXXX</td>\n",
       "    </tr>\n",
       "    <tr>\n",
       "      <th>1</th>\n",
       "      <td>Rosie</td>\n",
       "      <td>Vamos passear?</td>\n",
       "      <td>N</td>\n",
       "      <td>5585XXXXXXXXX</td>\n",
       "    </tr>\n",
       "    <tr>\n",
       "      <th>2</th>\n",
       "      <td>Jhon Doe</td>\n",
       "      <td>Está na hora da comida.</td>\n",
       "      <td>photo-image</td>\n",
       "      <td>5585XXXXXXXXX</td>\n",
       "    </tr>\n",
       "  </tbody>\n",
       "</table>\n",
       "</div>"
      ],
      "text/plain": [
       "       nome                    mensagem      arquivo       telefone\n",
       "0  Mister X  Bom dia,vamos pro passeio.            N  5585XXXXXXXXX\n",
       "1     Rosie              Vamos passear?            N  5585XXXXXXXXX\n",
       "2  Jhon Doe     Está na hora da comida.  photo-image  5585XXXXXXXXX"
      ]
     },
     "metadata": {},
     "output_type": "display_data"
    }
   ],
   "source": [
    "#whatsapp is already loaded\n",
    "import pandas as pd\n",
    "\n",
    "tabela = pd.read_excel('Envios-COMfones.xlsx')\n",
    "display(tabela)"
   ]
  },
  {
   "cell_type": "code",
   "execution_count": null,
   "id": "73522134",
   "metadata": {},
   "outputs": [],
   "source": [
    "import urllib\n",
    "import os\n",
    "\n",
    "for linha in tabela.index:\n",
    "    #send a message to each person\n",
    "    nome = tabela.loc[linha,\"nome\"]\n",
    "    mensagem = tabela.loc[linha,\"mensagem\"]\n",
    "    arquivo = tabela.loc[linha,\"arquivo\"]\n",
    "    telefone = tabela.loc[linha,\"telefone\"]\n",
    "    \n",
    "    texto = mensagem.replace(\"fulano\",nome)\n",
    "    texto = urllib.parse.quote(texto)\n",
    "    \n",
    "    #send message\n",
    "    link = f\"https://web.whatsapp.com/send?phone={telefone}&text={texto}\"\n",
    "    \n",
    "    driver.get(link)\n",
    "    #waiting for whastsapp screen load\n",
    "    while len(driver.find_elements(By.ID,'side')) < 1:# element showing once screen is loaded # using as a list since if is without anything it means that did not open yet\n",
    "        time.sleep(1)\n",
    "    time.sleep(2) # just to make sure\n",
    "    \n",
    "    #verify if number is invalid\n",
    "    if len(driver.find_elements(By.XPATH,'//*[@id=\"app\"]/div/span[2]/div/span/div/div/div/div/div/div[1]')) <1:\n",
    "        #send message\n",
    "        driver.find_element(By.XPATH,'//*[@id=\"main\"]/footer/div[1]/div/span[2]/div/div[2]/div[2]/button/span').click()\n",
    "        \n",
    "        if arquivo != \"N\":\n",
    "            caminho_completo = os.path.abspath(f\"arquivos/{arquivo}\")\n",
    "            driver.find_element(By.XPATH,'//*[@id=\"main\"]/footer/div[1]/div/span[2]/div/div[1]/div[2]/div/div/div/span').click()\n",
    "            driver.find_element(By.XPATH,'//*[@id=\"main\"]/footer/div[1]/div/span[2]/div/div[1]/div[2]/div/span/div/ul/div/div[1]/li/div/input').send_keys(caminho_completo)\n",
    "            time.sleep(2)\n",
    "            driver.find_element(By.XPATH,'//*[@id=\"app\"]/div/div/div[3]/div[2]/span/div/span/div/div/div[2]/div/div[2]/div[2]/div/div').click()\n",
    "        time.sleep(5)"
   ]
  }
 ],
 "metadata": {
  "kernelspec": {
   "display_name": "Python 3 (ipykernel)",
   "language": "python",
   "name": "python3"
  },
  "language_info": {
   "codemirror_mode": {
    "name": "ipython",
    "version": 3
   },
   "file_extension": ".py",
   "mimetype": "text/x-python",
   "name": "python",
   "nbconvert_exporter": "python",
   "pygments_lexer": "ipython3",
   "version": "3.9.18"
  }
 },
 "nbformat": 4,
 "nbformat_minor": 5
}
